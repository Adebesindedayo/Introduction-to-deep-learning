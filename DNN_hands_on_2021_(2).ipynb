{
  "nbformat": 4,
  "nbformat_minor": 0,
  "metadata": {
    "accelerator": "GPU",
    "colab": {
      "name": "DNN_hands-on_2021 (2).ipynb",
      "provenance": [],
      "collapsed_sections": [],
      "toc_visible": true,
      "include_colab_link": true
    },
    "kernelspec": {
      "display_name": "Python 3",
      "language": "python",
      "name": "python3"
    },
    "language_info": {
      "codemirror_mode": {
        "name": "ipython",
        "version": 3
      },
      "file_extension": ".py",
      "mimetype": "text/x-python",
      "name": "python",
      "nbconvert_exporter": "python",
      "pygments_lexer": "ipython3",
      "version": "3.7.0"
    }
  },
  "cells": [
    {
      "cell_type": "markdown",
      "metadata": {
        "id": "view-in-github",
        "colab_type": "text"
      },
      "source": [
        "<a href=\"https://colab.research.google.com/github/Adebesindedayo/Introduction-to-deep-learning/blob/main/DNN_hands_on_2021_(2).ipynb\" target=\"_parent\"><img src=\"https://colab.research.google.com/assets/colab-badge.svg\" alt=\"Open In Colab\"/></a>"
      ]
    },
    {
      "cell_type": "markdown",
      "metadata": {
        "id": "k2-p_EZYaY02"
      },
      "source": [
        "# Lab 1: Deep Neural Network (DNN)"
      ]
    },
    {
      "cell_type": "markdown",
      "metadata": {
        "id": "1_S63SmkaY1q"
      },
      "source": [
        "# 1.1 Keras basics\n",
        "<img src=\"https://drive.google.com/uc?id=1qUd5pI-C3DOFbJs8tGos9OCKZmPnNZYB\" width=\"400px\"><br>\n",
        "Keras is a high-level neural networks API, written in Python and capable of running on top of TensorFlow.<br>\n",
        "It allows for easy and fast prototyping and supports both convolutional networks and recurrent networks.<br>\n",
        "Its most important features are: user friendliness, modularity, easy extensibility\n",
        "\n",
        "In this section we will:\n",
        "* 1.1.1 Build a Multilayer perceptron"
      ]
    },
    {
      "cell_type": "markdown",
      "metadata": {
        "id": "HuNs_LWFaY1x"
      },
      "source": [
        "#### Build the same Single Layer Perceptron with Keras"
      ]
    },
    {
      "cell_type": "code",
      "metadata": {
        "id": "pGyGeFxcaY1y"
      },
      "source": [
        "from tensorflow.keras.models import Sequential\n",
        "from tensorflow.keras.layers import Dense\n",
        "\n",
        "# Define the number of inputs and outputs\n",
        "n_input_nodes = 2\n",
        "n_output_nodes = 2\n",
        "\n",
        "# First define the model \n",
        "model = Sequential() # model lets us define a linear stack of network layers.\n",
        "\n",
        "# define our single fully connected network layer\n",
        "dense_layer = Dense(n_output_nodes, activation='sigmoid',kernel_initializer=\"Ones\",bias_initializer=\"Ones\")\n",
        "\n",
        "# Add the dense layer to the model\n",
        "model.add(dense_layer)"
      ],
      "execution_count": null,
      "outputs": []
    },
    {
      "cell_type": "markdown",
      "metadata": {
        "id": "7O3ScCB-aY19"
      },
      "source": [
        "## 1.1.2 Build a Multilayer perceptron\n",
        "Let's build a multilayer perceptron; MLPs are fully connected, each node in one layer connects with a certain weight to every node in the following layer.\n",
        "\n",
        "<img src=\"https://drive.google.com/uc?id=16Uxs11_l8xl58978mRsxgEtdaTSG5KGb\" width=\"400px\"><br>\n",
        "\n",
        "Try to build one composed by two hidden dense layer with ReLU activation and one dense output layer(units=1) with sigmoid activation."
      ]
    },
    {
      "cell_type": "code",
      "metadata": {
        "id": "z8PMtoQ8aY2A"
      },
      "source": [
        "import numpy as np\n",
        "# Generate dummy data\n",
        "mu1=1\n",
        "sigma1=0.1\n",
        "mu2=0\n",
        "sigma2=2\n",
        "train_data = np.zeros((2000))\n",
        "\n",
        "train_data[0:1000] = np.random.normal(mu1,sigma1,1000)\n",
        "train_data[1000:2000] = np.random.normal(mu2,sigma2,1000)\n",
        "\n",
        "# train_data[0:1000] = np.random.uniform(-10,10, size=(1000,))\n",
        "# train_data[1000:2000] = np.random.uniform(20,50, size=(1000,))\n",
        "\n",
        "train_labels = np.zeros((2000,2))\n",
        "train_labels[1000:2000,1] = 1\n",
        "train_labels[0:1000,0] = 1\n",
        "test_data = np.zeros((200))\n",
        "\n",
        "test_data[0:100] = np.random.normal(mu1,sigma1,100)\n",
        "test_data[100:200] = np.random.normal(mu2,sigma2,100)\n",
        "\n",
        "# test_data[0:100] = np.random.uniform(-10,10, size=(100,))\n",
        "# test_data[100:200] = np.random.uniform(20,50, size=(100,))\n",
        "\n",
        "\n",
        "test_labels = np.zeros((200,2))\n",
        "test_labels[0:100,0] = 1\n",
        "test_labels[100:200,1] = 1\n",
        "\n",
        "# Build your first model by creating a Sequential object and then adding 3 Dense layers:\n",
        "units = 32\n",
        "# Create a Sequential\n",
        "model = Sequential()\n",
        "# Add a Dense layer with 32 neurons, with relu as activation function and input dimension equal to the number of features\n",
        "model.add(Dense(units, activation='relu'))\n",
        "# Add a Dense layer with 32 neurons, with relu as activation function\n",
        "model.add(Dense(units, activation='relu'))\n",
        "# To produce the output Add a Dense layer with 1 neurons, with sigmoid as activation function\n",
        "model.add(Dense(2, activation='sigmoid'))\n"
      ],
      "execution_count": null,
      "outputs": []
    },
    {
      "cell_type": "code",
      "metadata": {
        "colab": {
          "base_uri": "https://localhost:8080/"
        },
        "id": "b0k0N6xrgVCc",
        "outputId": "20a87602-ab4a-4ae8-cad7-9b883963152b"
      },
      "source": [
        "# Compile the model\n",
        "model.compile(optimizer='sgd',\n",
        "              loss='binary_crossentropy',\n",
        "              metrics=['accuracy'])\n",
        "\n",
        "\n",
        "# Train the model, iterating on the data in batches of 32 samples\n",
        "# The fit function output is a History object. The history.history attribute is a record of\n",
        "# training loss values and metrics values at successive epochs, as well as validation loss values \n",
        "# and validation metrics values \n",
        "history = model.fit(train_data, train_labels, epochs=30, batch_size=128)\n",
        "_, train_acc = model.evaluate(train_data, train_labels, verbose=1)\n",
        "_, test_acc = model.evaluate(test_data, test_labels, verbose=1)\n",
        "print('Train: %.3f, Test: %.3f' % (train_acc, test_acc))"
      ],
      "execution_count": null,
      "outputs": [
        {
          "output_type": "stream",
          "text": [
            "Epoch 1/30\n",
            "16/16 [==============================] - 3s 2ms/step - loss: 0.7006 - accuracy: 0.4945\n",
            "Epoch 2/30\n",
            "16/16 [==============================] - 0s 2ms/step - loss: 0.6917 - accuracy: 0.4790\n",
            "Epoch 3/30\n",
            "16/16 [==============================] - 0s 2ms/step - loss: 0.6835 - accuracy: 0.4680\n",
            "Epoch 4/30\n",
            "16/16 [==============================] - 0s 2ms/step - loss: 0.6756 - accuracy: 0.4580\n",
            "Epoch 5/30\n",
            "16/16 [==============================] - 0s 2ms/step - loss: 0.6690 - accuracy: 0.4450\n",
            "Epoch 6/30\n",
            "16/16 [==============================] - 0s 2ms/step - loss: 0.6638 - accuracy: 0.4395\n",
            "Epoch 7/30\n",
            "16/16 [==============================] - 0s 2ms/step - loss: 0.6588 - accuracy: 0.4990\n",
            "Epoch 8/30\n",
            "16/16 [==============================] - 0s 2ms/step - loss: 0.6541 - accuracy: 0.7110\n",
            "Epoch 9/30\n",
            "16/16 [==============================] - 0s 2ms/step - loss: 0.6496 - accuracy: 0.8440\n",
            "Epoch 10/30\n",
            "16/16 [==============================] - 0s 2ms/step - loss: 0.6454 - accuracy: 0.8835\n",
            "Epoch 11/30\n",
            "16/16 [==============================] - 0s 2ms/step - loss: 0.6413 - accuracy: 0.8990\n",
            "Epoch 12/30\n",
            "16/16 [==============================] - 0s 2ms/step - loss: 0.6373 - accuracy: 0.9005\n",
            "Epoch 13/30\n",
            "16/16 [==============================] - 0s 2ms/step - loss: 0.6332 - accuracy: 0.9035\n",
            "Epoch 14/30\n",
            "16/16 [==============================] - 0s 2ms/step - loss: 0.6292 - accuracy: 0.9000\n",
            "Epoch 15/30\n",
            "16/16 [==============================] - 0s 2ms/step - loss: 0.6252 - accuracy: 0.9000\n",
            "Epoch 16/30\n",
            "16/16 [==============================] - 0s 2ms/step - loss: 0.6212 - accuracy: 0.9020\n",
            "Epoch 17/30\n",
            "16/16 [==============================] - 0s 2ms/step - loss: 0.6172 - accuracy: 0.8995\n",
            "Epoch 18/30\n",
            "16/16 [==============================] - 0s 2ms/step - loss: 0.6131 - accuracy: 0.8980\n",
            "Epoch 19/30\n",
            "16/16 [==============================] - 0s 2ms/step - loss: 0.6090 - accuracy: 0.8990\n",
            "Epoch 20/30\n",
            "16/16 [==============================] - 0s 2ms/step - loss: 0.6050 - accuracy: 0.8965\n",
            "Epoch 21/30\n",
            "16/16 [==============================] - 0s 2ms/step - loss: 0.6009 - accuracy: 0.8955\n",
            "Epoch 22/30\n",
            "16/16 [==============================] - 0s 2ms/step - loss: 0.5968 - accuracy: 0.8960\n",
            "Epoch 23/30\n",
            "16/16 [==============================] - 0s 2ms/step - loss: 0.5927 - accuracy: 0.8955\n",
            "Epoch 24/30\n",
            "16/16 [==============================] - 0s 2ms/step - loss: 0.5886 - accuracy: 0.8950\n",
            "Epoch 25/30\n",
            "16/16 [==============================] - 0s 2ms/step - loss: 0.5844 - accuracy: 0.8955\n",
            "Epoch 26/30\n",
            "16/16 [==============================] - 0s 3ms/step - loss: 0.5803 - accuracy: 0.8960\n",
            "Epoch 27/30\n",
            "16/16 [==============================] - 0s 2ms/step - loss: 0.5762 - accuracy: 0.8970\n",
            "Epoch 28/30\n",
            "16/16 [==============================] - 0s 2ms/step - loss: 0.5721 - accuracy: 0.8985\n",
            "Epoch 29/30\n",
            "16/16 [==============================] - 0s 2ms/step - loss: 0.5680 - accuracy: 0.8970\n",
            "Epoch 30/30\n",
            "16/16 [==============================] - 0s 2ms/step - loss: 0.5639 - accuracy: 0.8935\n",
            "63/63 [==============================] - 0s 2ms/step - loss: 0.5616 - accuracy: 0.8965\n",
            "7/7 [==============================] - 0s 2ms/step - loss: 0.5606 - accuracy: 0.8900\n",
            "Train: 0.896, Test: 0.890\n"
          ],
          "name": "stdout"
        }
      ]
    },
    {
      "cell_type": "markdown",
      "metadata": {
        "id": "-a8ltO0kD38i"
      },
      "source": [
        "**Try to use linear activation function. (activation='linear')**. \n",
        "\n",
        "How do the performances change? why?\n",
        "\n",
        "**Try the same model with linear activation function on samples extracted from two uniform distribution** \n",
        "\n",
        "Uncomment the lines with np.random.uniform and comment the lines with np.random.normal in the previous cell code. \n",
        "\n",
        "**Try to use non-linear activation function on this toy dataset.** Do the results improve? "
      ]
    },
    {
      "cell_type": "markdown",
      "metadata": {
        "id": "o8fIyluGaY2E"
      },
      "source": [
        "# 1.2 Build a Deep Neural Network \n",
        "In this section we will:\n",
        "*  1.2.1 Import the dataset\n",
        "*  1.2.2 Build a model\n",
        "*  1.2.3 Train the model \n",
        "*  1.2.4 Evaluate the model"
      ]
    },
    {
      "cell_type": "markdown",
      "metadata": {
        "id": "Vnq7w29FaY2G"
      },
      "source": [
        "## 1.2.1 Import the Dataset\n",
        "Fashion-MNIST is a dataset of Zalando’s article images consisting of a training set of 60,000 examples and a test set of 10,000 examples. <br>\n",
        "Each example is a 28×28 grayscale image, associated with a label from 10 classes.<br>\n",
        "<img src=\"https://drive.google.com/uc?id=1bCzydSawhVLUx9F3ee18eIwy0U3eNRMZ\" width=\"600px\"><br>\n"
      ]
    },
    {
      "cell_type": "code",
      "metadata": {
        "colab": {
          "base_uri": "https://localhost:8080/"
        },
        "id": "LX4Gc3siaY2H",
        "outputId": "c5314956-ab08-4852-d1d5-7ee0296f7068"
      },
      "source": [
        "from sklearn.model_selection import train_test_split\n",
        "import tensorflow as tf \n",
        "mnist_fashion = tf.keras.datasets.fashion_mnist\n",
        "\n",
        "(x_learn, y_learn),(x_test, y_test) = mnist_fashion.load_data()\n",
        "x_learn, x_test = x_learn / 255.0, x_test / 255.0 # normalization \n",
        "x_train, x_val, y_train, y_val = train_test_split(x_learn, y_learn, test_size=0.3, random_state=42) # split learn in train,val\n",
        "num_classes = 10 # Fashion-MNIST classes\n",
        "\n",
        "print(x_train.shape, x_val.shape, x_test.shape)"
      ],
      "execution_count": null,
      "outputs": [
        {
          "output_type": "stream",
          "text": [
            "Downloading data from https://storage.googleapis.com/tensorflow/tf-keras-datasets/train-labels-idx1-ubyte.gz\n",
            "32768/29515 [=================================] - 0s 0us/step\n",
            "Downloading data from https://storage.googleapis.com/tensorflow/tf-keras-datasets/train-images-idx3-ubyte.gz\n",
            "26427392/26421880 [==============================] - 0s 0us/step\n",
            "Downloading data from https://storage.googleapis.com/tensorflow/tf-keras-datasets/t10k-labels-idx1-ubyte.gz\n",
            "8192/5148 [===============================================] - 0s 0us/step\n",
            "Downloading data from https://storage.googleapis.com/tensorflow/tf-keras-datasets/t10k-images-idx3-ubyte.gz\n",
            "4423680/4422102 [==============================] - 0s 0us/step\n",
            "(42000, 28, 28) (18000, 28, 28) (10000, 28, 28)\n"
          ],
          "name": "stdout"
        }
      ]
    },
    {
      "cell_type": "markdown",
      "metadata": {
        "id": "G_LsI1CdaY2J"
      },
      "source": [
        "#### Plot some sample from the training set"
      ]
    },
    {
      "cell_type": "code",
      "metadata": {
        "colab": {
          "base_uri": "https://localhost:8080/",
          "height": 370
        },
        "id": "gX44XG1RaY2K",
        "outputId": "c892d4c6-ebc3-4a76-eadb-eba3f81bd44f"
      },
      "source": [
        "import matplotlib.pyplot as plt\n",
        "class_names = ['T-shirt/top', 'Trouser', 'Pullover', 'Dress', 'Coat', \n",
        "               'Sandal', 'Shirt', 'Sneaker', 'Bag', 'Ankle boot']\n",
        "\n",
        "plt.figure(figsize=(6,6))\n",
        "for i in range(16):\n",
        "    plt.subplot(4,4,i+1)\n",
        "    plt.xticks([])\n",
        "    plt.yticks([])\n",
        "    plt.grid(False)\n",
        "    plt.imshow(x_train[i], cmap=plt.cm.binary)\n",
        "    plt.xlabel(class_names[y_train[i]])\n",
        "plt.show()"
      ],
      "execution_count": null,
      "outputs": [
        {
          "output_type": "display_data",
          "data": {
            "image/png": "[encoded data removed]",
            "text/plain": [
              "<Figure size 432x432 with 16 Axes>"
            ]
          },
          "metadata": {
            "tags": []
          }
        }
      ]
    },
    {
      "cell_type": "markdown",
      "metadata": {
        "id": "F7Ag6933aY2N"
      },
      "source": [
        "## 1.2.2 Build a Model\n",
        "\n",
        "<img src=\"https://drive.google.com/uc?id=1siIVKXLL7_YsecqlCQqw_ZI35LhR8XbI\" width=\"400px\"><br>\n",
        "\n",
        "A Deep Neural Network is a neural network composed by many layers and consequently it has a deeper structure. The number of layers in the network depends on different factors: for example on the data available, on the complexity of the problem, on the computational power and so on.\n",
        "The value produced as output by a neuron is determined by the input the neuron receives and by the activation function. There exists different choices for the activation function. One of the most used is Relu but it depends on the data and on the network architecture.\n",
        "<br><br>\n",
        "<img src=\"https://drive.google.com/uc?id=1Rr_1OJeORL6qmGFplC0E2hFj-KapFGN0\" width=\"600px\"><br>\n"
      ]
    },
    {
      "cell_type": "markdown",
      "metadata": {
        "id": "uUrCyhLdaY2R"
      },
      "source": [
        "#### Build a model with this structure: Flatten+Dense(ReLU)+Dense(ReLU)+Dense(ReLU)+Dense(ReLU)+Dense(softmax)"
      ]
    },
    {
      "cell_type": "code",
      "metadata": {
        "id": "jL-UXDSMaY2S"
      },
      "source": [
        "from tensorflow.keras.layers import Flatten\n",
        "# https://keras.io/layers/core/\n",
        "model = Sequential()\n",
        "model.add(Flatten())\n",
        "# Add a Dense layer with 512 neurons, with relu as activation function\n",
        "model.add(Dense(512, activation='relu'))\n",
        "# Add a Dense layer with 256 neurons, with relu as activation function\n",
        "model.add(Dense(256, activation='relu'))\n",
        "# Add a Dense layer with 128 neurons, with relu as activation function\n",
        "model.add(Dense(128, activation='relu'))\n",
        "# Add a Dense layer with 64 neurons, with relu as activation function\n",
        "model.add(Dense(64, activation='relu'))\n",
        "# Add a Dense layer with number of neurons equal to the number of classes, with softmax as activation function\n",
        "model.add(Dense(num_classes, activation='softmax'))"
      ],
      "execution_count": null,
      "outputs": []
    },
    {
      "cell_type": "markdown",
      "metadata": {
        "id": "qXOzjck_aY2V"
      },
      "source": [
        "When we are building a model there are many design choises that we must operate: the choice of a Loss Function, the Metrics and the Optimizer.<br>\n",
        "\n",
        "**Loss functions** are used to compare the network's predicted output  with the real output, in each pass of the backpropagations algorithm<br>\n",
        "Common loss functions are: mean-squared error, cross-entropy, and so on...<br><br>\n",
        "**Metrics** are used to evaluate a model; common metrics are precision, recall, accuracy, auc,..<br>\n",
        "\n",
        "The **Optimizer** determines the update rules of the weights. The performance and update speed may heavily vary from optimizer to optimizer; in choosing an optimizer what's important to consider is the network depth, the type of layers and the type of data.<br>\n",
        "The gifs below give an idea on how different Optimizers work.<br>\n",
        "\n",
        "<img src=\"https://drive.google.com/uc?id=1UfM-0QruDiOgy8cSxLmZHx3FI4pzLeDQ\" width=\"360px\" align=\"middle\">"
      ]
    },
    {
      "cell_type": "markdown",
      "metadata": {
        "id": "01Ms84EmaY2W"
      },
      "source": [
        "#### Configures the model for training"
      ]
    },
    {
      "cell_type": "code",
      "metadata": {
        "colab": {
          "base_uri": "https://localhost:8080/"
        },
        "id": "zL2LLmKyaY2W",
        "outputId": "3eddcad4-2828-4336-c527-f39c6e3031d6"
      },
      "source": [
        "# Optimizers    https://www.tensorflow.org/api_docs/python/tf/keras/optimizers\n",
        "from tensorflow.keras.optimizers import Adam, SGD, Adadelta, Adagrad, Adamax, Nadam, RMSprop\n",
        "\n",
        "adam = Adam(lr=0.001, beta_1=0.9, beta_2=0.999, epsilon=None, decay=0.0, amsgrad=False)\n",
        "sgd = SGD(lr=0.001, momentum=0.0, decay=0.0, nesterov=False)\n",
        "adad = Adadelta(lr=1.0,rho=0.95,epsilon=None,decay=0.0)\n",
        "adag = Adagrad(lr=0.01,epsilon=None,decay=0.0)\n",
        "adamax = Adamax(lr=0.002,beta_1=0.9,beta_2=0.999,epsilon=None,decay=0.0)\n",
        "nadam = Nadam(lr=0.002,beta_1=0.9,beta_2=0.999,epsilon=None,schedule_decay=0.004)\n",
        "rms = RMSprop(lr=0.001,rho=0.9,epsilon=None,decay=0.0)\n",
        "\n",
        "# Losses    https://keras.io/losses/\n",
        "loss = ['sparse_categorical_crossentropy','mean_squared_error','mean_absolute_error',\n",
        "        'categorical_crossentropy','categorical_hinge']\n",
        "\n",
        "# Metrics    https://www.tensorflow.org/api_docs/python/tf/metrics\n",
        "metrics = ['accuracy','precision','recall']"
      ],
      "execution_count": null,
      "outputs": [
        {
          "output_type": "stream",
          "text": [
            "/usr/local/lib/python3.7/dist-packages/tensorflow/python/keras/optimizer_v2/optimizer_v2.py:375: UserWarning: The `lr` argument is deprecated, use `learning_rate` instead.\n",
            "  \"The `lr` argument is deprecated, use `learning_rate` instead.\")\n"
          ],
          "name": "stderr"
        }
      ]
    },
    {
      "cell_type": "code",
      "metadata": {
        "id": "JNQcFWhqaY2Z"
      },
      "source": [
        "# Compile the model you created before using \n",
        "# adam optimizer as optimizer\n",
        "# sparse categorical crossentropy as loss function\n",
        "# accuracy as metric\n",
        "model.compile(optimizer=adam,\n",
        "              loss=loss[0],\n",
        "              metrics=[metrics[0]])"
      ],
      "execution_count": null,
      "outputs": []
    },
    {
      "cell_type": "markdown",
      "metadata": {
        "id": "9SvR02wtaY2c"
      },
      "source": [
        "## 1.2.3 Train the model \n",
        "The batch size is a number of samples processed before the model is updated.<br>\n",
        "The number of epochs is the number of complete passes through the training dataset."
      ]
    },
    {
      "cell_type": "code",
      "metadata": {
        "colab": {
          "base_uri": "https://localhost:8080/"
        },
        "id": "Wd4Q9bFjaY2c",
        "outputId": "8ca9ec3e-0e70-40fa-d2c5-b752a533c010"
      },
      "source": [
        "batch_size = 128\n",
        "epochs = 50\n",
        "# fit your model and save the returned value as \"history\". \n",
        "# Use both the train and validation set \n",
        "# Set both properly the batch size value and the epochs value\n",
        "history = model.fit(x_train, y_train, batch_size=batch_size, validation_data =(x_val, y_val), epochs=epochs)"
      ],
      "execution_count": null,
      "outputs": [
        {
          "output_type": "stream",
          "text": [
            "Epoch 1/50\n",
            "329/329 [==============================] - 2s 4ms/step - loss: 0.5560 - accuracy: 0.8019 - val_loss: 0.4392 - val_accuracy: 0.8394\n",
            "Epoch 2/50\n",
            "329/329 [==============================] - 1s 4ms/step - loss: 0.3896 - accuracy: 0.8573 - val_loss: 0.3706 - val_accuracy: 0.8611\n",
            "Epoch 3/50\n",
            "329/329 [==============================] - 1s 4ms/step - loss: 0.3446 - accuracy: 0.8722 - val_loss: 0.3533 - val_accuracy: 0.8708\n",
            "Epoch 4/50\n",
            "329/329 [==============================] - 1s 4ms/step - loss: 0.3128 - accuracy: 0.8835 - val_loss: 0.3602 - val_accuracy: 0.8675\n",
            "Epoch 5/50\n",
            "329/329 [==============================] - 1s 4ms/step - loss: 0.2940 - accuracy: 0.8898 - val_loss: 0.3478 - val_accuracy: 0.8769\n",
            "Epoch 6/50\n",
            "329/329 [==============================] - 1s 4ms/step - loss: 0.2734 - accuracy: 0.8974 - val_loss: 0.3226 - val_accuracy: 0.8871\n",
            "Epoch 7/50\n",
            "329/329 [==============================] - 1s 4ms/step - loss: 0.2690 - accuracy: 0.8976 - val_loss: 0.3150 - val_accuracy: 0.8892\n",
            "Epoch 8/50\n",
            "329/329 [==============================] - 1s 4ms/step - loss: 0.2542 - accuracy: 0.9043 - val_loss: 0.3320 - val_accuracy: 0.8842\n",
            "Epoch 9/50\n",
            "329/329 [==============================] - 1s 4ms/step - loss: 0.2438 - accuracy: 0.9081 - val_loss: 0.3423 - val_accuracy: 0.8819\n",
            "Epoch 10/50\n",
            "329/329 [==============================] - 1s 4ms/step - loss: 0.2317 - accuracy: 0.9120 - val_loss: 0.3357 - val_accuracy: 0.8866\n",
            "Epoch 11/50\n",
            "329/329 [==============================] - 1s 4ms/step - loss: 0.2262 - accuracy: 0.9146 - val_loss: 0.3231 - val_accuracy: 0.8881\n",
            "Epoch 12/50\n",
            "329/329 [==============================] - 1s 4ms/step - loss: 0.2137 - accuracy: 0.9179 - val_loss: 0.3067 - val_accuracy: 0.8929\n",
            "Epoch 13/50\n",
            "329/329 [==============================] - 1s 4ms/step - loss: 0.2088 - accuracy: 0.9217 - val_loss: 0.3321 - val_accuracy: 0.8873\n",
            "Epoch 14/50\n",
            "329/329 [==============================] - 1s 4ms/step - loss: 0.2014 - accuracy: 0.9231 - val_loss: 0.3126 - val_accuracy: 0.8940\n",
            "Epoch 15/50\n",
            "329/329 [==============================] - 1s 4ms/step - loss: 0.1905 - accuracy: 0.9280 - val_loss: 0.3187 - val_accuracy: 0.8951\n",
            "Epoch 16/50\n",
            "329/329 [==============================] - 1s 4ms/step - loss: 0.1821 - accuracy: 0.9306 - val_loss: 0.3270 - val_accuracy: 0.8926\n",
            "Epoch 17/50\n",
            "329/329 [==============================] - 1s 4ms/step - loss: 0.1828 - accuracy: 0.9308 - val_loss: 0.3430 - val_accuracy: 0.8936\n",
            "Epoch 18/50\n",
            "329/329 [==============================] - 1s 4ms/step - loss: 0.1750 - accuracy: 0.9339 - val_loss: 0.3519 - val_accuracy: 0.8882\n",
            "Epoch 19/50\n",
            "329/329 [==============================] - 1s 4ms/step - loss: 0.1604 - accuracy: 0.9399 - val_loss: 0.3501 - val_accuracy: 0.8961\n",
            "Epoch 20/50\n",
            "329/329 [==============================] - 1s 4ms/step - loss: 0.1650 - accuracy: 0.9359 - val_loss: 0.3521 - val_accuracy: 0.8944\n",
            "Epoch 21/50\n",
            "329/329 [==============================] - 1s 4ms/step - loss: 0.1593 - accuracy: 0.9389 - val_loss: 0.3607 - val_accuracy: 0.8909\n",
            "Epoch 22/50\n",
            "329/329 [==============================] - 1s 4ms/step - loss: 0.1541 - accuracy: 0.9407 - val_loss: 0.3521 - val_accuracy: 0.8932\n",
            "Epoch 23/50\n",
            "329/329 [==============================] - 1s 4ms/step - loss: 0.1564 - accuracy: 0.9409 - val_loss: 0.3632 - val_accuracy: 0.8901\n",
            "Epoch 24/50\n",
            "329/329 [==============================] - 1s 4ms/step - loss: 0.1433 - accuracy: 0.9447 - val_loss: 0.3607 - val_accuracy: 0.8949\n",
            "Epoch 25/50\n",
            "329/329 [==============================] - 1s 4ms/step - loss: 0.1395 - accuracy: 0.9471 - val_loss: 0.3967 - val_accuracy: 0.8861\n",
            "Epoch 26/50\n",
            "329/329 [==============================] - 1s 4ms/step - loss: 0.1371 - accuracy: 0.9467 - val_loss: 0.3733 - val_accuracy: 0.8935\n",
            "Epoch 27/50\n",
            "329/329 [==============================] - 1s 4ms/step - loss: 0.1255 - accuracy: 0.9513 - val_loss: 0.3908 - val_accuracy: 0.8932\n",
            "Epoch 28/50\n",
            "329/329 [==============================] - 1s 4ms/step - loss: 0.1335 - accuracy: 0.9483 - val_loss: 0.3966 - val_accuracy: 0.8851\n",
            "Epoch 29/50\n",
            "329/329 [==============================] - 1s 4ms/step - loss: 0.1222 - accuracy: 0.9527 - val_loss: 0.3838 - val_accuracy: 0.8916\n",
            "Epoch 30/50\n",
            "329/329 [==============================] - 1s 4ms/step - loss: 0.1197 - accuracy: 0.9541 - val_loss: 0.4100 - val_accuracy: 0.8957\n",
            "Epoch 31/50\n",
            "329/329 [==============================] - 1s 4ms/step - loss: 0.1203 - accuracy: 0.9537 - val_loss: 0.4407 - val_accuracy: 0.8922\n",
            "Epoch 32/50\n",
            "329/329 [==============================] - 1s 4ms/step - loss: 0.1123 - accuracy: 0.9575 - val_loss: 0.4010 - val_accuracy: 0.8943\n",
            "Epoch 33/50\n",
            "329/329 [==============================] - 1s 4ms/step - loss: 0.1061 - accuracy: 0.9592 - val_loss: 0.4304 - val_accuracy: 0.8931\n",
            "Epoch 34/50\n",
            "329/329 [==============================] - 1s 4ms/step - loss: 0.1081 - accuracy: 0.9588 - val_loss: 0.4601 - val_accuracy: 0.8886\n",
            "Epoch 35/50\n",
            "329/329 [==============================] - 1s 4ms/step - loss: 0.1048 - accuracy: 0.9599 - val_loss: 0.4251 - val_accuracy: 0.8969\n",
            "Epoch 36/50\n",
            "329/329 [==============================] - 1s 4ms/step - loss: 0.0992 - accuracy: 0.9619 - val_loss: 0.4347 - val_accuracy: 0.8966\n",
            "Epoch 37/50\n",
            "329/329 [==============================] - 1s 4ms/step - loss: 0.0955 - accuracy: 0.9632 - val_loss: 0.4516 - val_accuracy: 0.8884\n",
            "Epoch 38/50\n",
            "329/329 [==============================] - 1s 4ms/step - loss: 0.0951 - accuracy: 0.9633 - val_loss: 0.4700 - val_accuracy: 0.8896\n",
            "Epoch 39/50\n",
            "329/329 [==============================] - 1s 4ms/step - loss: 0.0937 - accuracy: 0.9635 - val_loss: 0.4892 - val_accuracy: 0.8963\n",
            "Epoch 40/50\n",
            "329/329 [==============================] - 1s 4ms/step - loss: 0.0955 - accuracy: 0.9637 - val_loss: 0.4562 - val_accuracy: 0.8997\n",
            "Epoch 41/50\n",
            "329/329 [==============================] - 1s 4ms/step - loss: 0.0888 - accuracy: 0.9660 - val_loss: 0.4432 - val_accuracy: 0.8919\n",
            "Epoch 42/50\n",
            "329/329 [==============================] - 1s 4ms/step - loss: 0.0887 - accuracy: 0.9651 - val_loss: 0.4899 - val_accuracy: 0.8948\n",
            "Epoch 43/50\n",
            "329/329 [==============================] - 1s 4ms/step - loss: 0.0779 - accuracy: 0.9691 - val_loss: 0.5310 - val_accuracy: 0.8887\n",
            "Epoch 44/50\n",
            "329/329 [==============================] - 1s 4ms/step - loss: 0.0875 - accuracy: 0.9663 - val_loss: 0.4630 - val_accuracy: 0.8986\n",
            "Epoch 45/50\n",
            "329/329 [==============================] - 1s 4ms/step - loss: 0.0779 - accuracy: 0.9699 - val_loss: 0.4979 - val_accuracy: 0.8924\n",
            "Epoch 46/50\n",
            "329/329 [==============================] - 1s 4ms/step - loss: 0.0742 - accuracy: 0.9717 - val_loss: 0.5106 - val_accuracy: 0.8918\n",
            "Epoch 47/50\n",
            "329/329 [==============================] - 1s 4ms/step - loss: 0.0765 - accuracy: 0.9704 - val_loss: 0.4685 - val_accuracy: 0.8995\n",
            "Epoch 48/50\n",
            "329/329 [==============================] - 1s 4ms/step - loss: 0.0737 - accuracy: 0.9721 - val_loss: 0.4977 - val_accuracy: 0.8917\n",
            "Epoch 49/50\n",
            "329/329 [==============================] - 1s 4ms/step - loss: 0.0786 - accuracy: 0.9693 - val_loss: 0.5118 - val_accuracy: 0.8991\n",
            "Epoch 50/50\n",
            "329/329 [==============================] - 1s 4ms/step - loss: 0.0740 - accuracy: 0.9721 - val_loss: 0.5399 - val_accuracy: 0.8917\n"
          ],
          "name": "stdout"
        }
      ]
    },
    {
      "cell_type": "markdown",
      "metadata": {
        "id": "dv73zOpQaY2f"
      },
      "source": [
        "#### Training history visualization\n",
        "\n"
      ]
    },
    {
      "cell_type": "code",
      "metadata": {
        "id": "IuYCcmXGaY2h"
      },
      "source": [
        "def plot_history(history):\n",
        "    # Plot training & validation accuracy values\n",
        "    plt.plot(history.history['accuracy'])\n",
        "    plt.plot(history.history['val_accuracy'])\n",
        "    plt.title('Model accuracy')\n",
        "    plt.ylabel('Accuracy')\n",
        "    plt.xlabel('Epoch')\n",
        "    plt.legend(['Train', 'Val'], loc='upper left')\n",
        "    plt.show()\n",
        "\n",
        "    # Plot training & validation loss values\n",
        "    plt.plot(history.history['loss'])\n",
        "    plt.plot(history.history['val_loss'])\n",
        "    plt.title('Model loss')\n",
        "    plt.ylabel('Loss')\n",
        "    plt.xlabel('Epoch')\n",
        "    plt.legend(['Train', 'Val'], loc='upper left')\n",
        "    plt.show()"
      ],
      "execution_count": null,
      "outputs": []
    },
    {
      "cell_type": "code",
      "metadata": {
        "colab": {
          "base_uri": "https://localhost:8080/",
          "height": 573
        },
        "id": "nXWlXkuBaY2t",
        "scrolled": false,
        "outputId": "eb538cfc-c23e-4629-b043-88f357b69a4e"
      },
      "source": [
        "plot_history(history)"
      ],
      "execution_count": null,
      "outputs": [
        {
          "output_type": "display_data",
          "data": {
            "image/png": "[encoded data removed]",
            "text/plain": [
              "<Figure size 432x288 with 1 Axes>"
            ]
          },
          "metadata": {
            "tags": [],
            "needs_background": "light"
          }
        },
        {
          "output_type": "display_data",
          "data": {
            "image/png": "[encoded data removed]",
            "text/plain": [
              "<Figure size 432x288 with 1 Axes>"
            ]
          },
          "metadata": {
            "tags": [],
            "needs_background": "light"
          }
        }
      ]
    },
    {
      "cell_type": "markdown",
      "metadata": {
        "id": "qqEKGdT6aY2v"
      },
      "source": [
        "**What could you notice in the loss graph training the model over large number of epochs?**\n",
        "\n",
        "(Training loss continue to dicrease in a flatten way until to go near 0; validation loss after a while starts to increase significantly -> OVERFITTING)"
      ]
    },
    {
      "cell_type": "markdown",
      "metadata": {
        "id": "n8zJr0nraY2w"
      },
      "source": [
        "## 1.2.4 Evaluate the model\n"
      ]
    },
    {
      "cell_type": "code",
      "metadata": {
        "colab": {
          "base_uri": "https://localhost:8080/"
        },
        "id": "2lxASSVmaY2x",
        "outputId": "9b3c469d-5f70-4ffa-d9b6-74731c3346b9"
      },
      "source": [
        "_, train_acc = model.evaluate(x_train, y_train, verbose=1)\n",
        "_, test_acc = model.evaluate(x_test, y_test, verbose=1)\n",
        "print('Train: %.3f, Test: %.3f' % (train_acc, test_acc))"
      ],
      "execution_count": null,
      "outputs": [
        {
          "output_type": "stream",
          "text": [
            "1313/1313 [==============================] - 3s 2ms/step - loss: 0.0629 - accuracy: 0.9756\n",
            "313/313 [==============================] - 1s 2ms/step - loss: 0.6010 - accuracy: 0.8916\n",
            "Train: 0.976, Test: 0.892\n"
          ],
          "name": "stdout"
        }
      ]
    },
    {
      "cell_type": "markdown",
      "metadata": {
        "id": "C2stTI0NaY2z"
      },
      "source": [
        "**Try to play with these parameters (loss, learning rate and optimizers) in order to see how this choice affects the accuracy.**\n",
        "What do you expect? which is faster?\n",
        "\n",
        "The learning rate can be passed as a parameter for the optimizer (e.g., tensorflow.keras.optimizers.Adam(lr=0.01)."
      ]
    },
    {
      "cell_type": "markdown",
      "metadata": {
        "id": "znWL73IWaY20"
      },
      "source": [
        "# 1.3 Overfitting\n",
        "Given some training data and a network architecture, there are multiple sets of weights values (multiple models) that could explain the data, and simpler models are less likely to overfit than complex ones.<br>\n",
        "A \"simple model\" in this context is a model where the distribution of parameter values has less entropy (or a model with fewer parameters altogether).<br>\n",
        "How to improve generalization of our model on unseen data?<br>\n",
        "In this section we will:\n",
        "* 1.3.1 Add weight regularization\n",
        "* 1.3.2 Dropout\n",
        "* 1.3.3 Early stopping"
      ]
    },
    {
      "cell_type": "markdown",
      "metadata": {
        "id": "aimRiLIqaY22"
      },
      "source": [
        "## 1.3.1 Add weight regularization\n",
        "A common way to mitigate overfitting is to put constraints on the complexity of a network by forcing its weights only to take small values, which makes the distribution of weight values more \"regular\".<br>\n",
        "This is called \"weight regularization\", and it is done by adding to the loss function of the network a cost associated with having large weights.<br> This cost comes in two flavors:\n",
        "* L1 regularization\n",
        "* L2 regularization\n",
        "\n",
        "In tf.keras, weight regularization is added by passing weight regularizer instances to layers as keyword arguments."
      ]
    },
    {
      "cell_type": "code",
      "metadata": {
        "colab": {
          "base_uri": "https://localhost:8080/",
          "height": 798
        },
        "id": "vE2zlBgeaY23",
        "scrolled": false,
        "outputId": "bae54c28-f007-4178-9b05-50c6fff19928"
      },
      "source": [
        "from  tensorflow.keras import regularizers\n",
        "# Build the model\n",
        "model = Sequential()\n",
        "model.add(Flatten())\n",
        "# Add a Dense layer with 512 neurons, with relu as activation function and a l2 regularizer (with 0.001 as regularization value) as kernel regularizer \n",
        "model.add(Dense(512, kernel_regularizer=regularizers.l2(0.001), activation='relu'))\n",
        "# Add a Dense layer with 256 neurons, with relu as activation function and a l2 regularizer (with 0.001 as regularization value) as kernel regularizer \n",
        "model.add(Dense(256, kernel_regularizer=regularizers.l2(0.001), activation='relu'))\n",
        "# Add a Dense layer with 128 neurons, with relu as activation function and a l2 regularizer (with 0.001 as regularization value) as kernel regularizer \n",
        "model.add(Dense(128, kernel_regularizer=regularizers.l2(0.001), activation='relu'))\n",
        "# Add a Dense layer with 64 neurons, with relu as activation function and a l2 regularizer (with 0.001 as regularization value) as kernel regularizer \n",
        "model.add(Dense(64, kernel_regularizer=regularizers.l2(0.001), activation='relu'))\n",
        "# Add a Dense layer with number of neurons equal to the number of classes, with softmax as activation function\n",
        "model.add(Dense(num_classes, activation='softmax'))\n",
        "\n",
        "\n",
        "# Compile the model you just created using \n",
        "# adam optimizer as optimizer\n",
        "# sparse categorical crossentropy as loss function\n",
        "# accuracy as metric\n",
        "model.compile(optimizer=adam,\n",
        "              loss=loss[0],\n",
        "              metrics=[metrics[0]])\n",
        "\n",
        "# fit your model and save the returned value as \"history\". \n",
        "# Use both the train and validation set \n",
        "# Set both properly the batch size value and the epochs value\n",
        "batch_size = 128\n",
        "epochs = 5\n",
        "history = model.fit(x_train, y_train, batch_size=batch_size, epochs=epochs, validation_data =(x_val, y_val))\n",
        "\n",
        "# Call the plot_history function to plot the obtained results\n",
        "plot_history(history)\n",
        "\n",
        "# Evaluate\n",
        "_, train_acc = model.evaluate(x_train, y_train, verbose=1)\n",
        "_, test_acc = model.evaluate(x_test, y_test, verbose=1)\n",
        "print('Train: %.3f, Test: %.3f' % (train_acc, test_acc))"
      ],
      "execution_count": null,
      "outputs": [
        {
          "output_type": "stream",
          "text": [
            "Epoch 1/5\n",
            "329/329 [==============================] - 2s 5ms/step - loss: 0.9249 - accuracy: 0.7901 - val_loss: 0.7264 - val_accuracy: 0.8043\n",
            "Epoch 2/5\n",
            "329/329 [==============================] - 1s 4ms/step - loss: 0.6059 - accuracy: 0.8440 - val_loss: 0.5909 - val_accuracy: 0.8428\n",
            "Epoch 3/5\n",
            "329/329 [==============================] - 1s 4ms/step - loss: 0.5364 - accuracy: 0.8582 - val_loss: 0.5229 - val_accuracy: 0.8621\n",
            "Epoch 4/5\n",
            "329/329 [==============================] - 1s 4ms/step - loss: 0.5118 - accuracy: 0.8621 - val_loss: 0.5297 - val_accuracy: 0.8543\n",
            "Epoch 5/5\n",
            "329/329 [==============================] - 1s 4ms/step - loss: 0.4890 - accuracy: 0.8663 - val_loss: 0.5040 - val_accuracy: 0.8591\n"
          ],
          "name": "stdout"
        },
        {
          "output_type": "display_data",
          "data": {
            "image/png": "[encoded data removed]",
            "text/plain": [
              "<Figure size 432x288 with 1 Axes>"
            ]
          },
          "metadata": {
            "tags": [],
            "needs_background": "light"
          }
        },
        {
          "output_type": "display_data",
          "data": {
            "image/png": "[encoded data removed]",
            "text/plain": [
              "<Figure size 432x288 with 1 Axes>"
            ]
          },
          "metadata": {
            "tags": [],
            "needs_background": "light"
          }
        },
        {
          "output_type": "stream",
          "text": [
            "1313/1313 [==============================] - 3s 2ms/step - loss: 0.4723 - accuracy: 0.8708\n",
            "313/313 [==============================] - 1s 2ms/step - loss: 0.5321 - accuracy: 0.8515\n",
            "Train: 0.871, Test: 0.851\n"
          ],
          "name": "stdout"
        }
      ]
    },
    {
      "cell_type": "markdown",
      "metadata": {
        "id": "r4xF5NBSaY25"
      },
      "source": [
        "## 1.3.2 Dropout\n",
        "Dropout is one of the most effective and most commonly used regularization techniques for neural networks.<br>\n",
        "Dropout, applied to a layer, consists of randomly \"dropping out\" (i.e. set to zero) a number of output features of the layer during training.<br>\n",
        "<img src=\"https://drive.google.com/uc?id=1PcGnn9cdM5JQk2nxRHAFPZAtBj1fNMvk\" width=\"600px\"><br>\n",
        "\n",
        "The \"dropout rate\" is the fraction of the features that are being zeroed-out; it is usually set between 0.2 and 0.5; at test time, no units are dropped out, and instead the layer's output values are scaled down by a factor equal to the dropout rate, so as to balance for the fact that more units are active than at training time."
      ]
    },
    {
      "cell_type": "code",
      "metadata": {
        "id": "EzV7zpjJaY26",
        "scrolled": false
      },
      "source": [
        "from tensorflow.keras.layers import Dropout\n",
        "# Build the model\n",
        "model = Sequential()\n",
        "model.add(Flatten())\n",
        "# Add a Dense layer with 512 neurons, with relu as activation function\n",
        "model.add(Dense(512, activation='relu'))\n",
        "# Add a Dropout layer with 0.3 drop probability\n",
        "model.add(Dropout(0.3))\n",
        "# Add a Dense layer with 256 neurons, with relu as activation function\n",
        "model.add(Dense(256, activation='relu'))\n",
        "# Add a Dropout layer with 0.3 drop probability\n",
        "model.add(Dropout(0.3))\n",
        "# Add a Dense layer with 128 neurons, with relu as activation function\n",
        "model.add(Dense(128, activation='relu'))\n",
        "# Add a Dropout layer with 0.3 drop probability\n",
        "model.add(Dropout(0.3))\n",
        "# Add a Dense layer with 64 neurons, with relu as activation function\n",
        "model.add(Dense(64, activation='relu'))\n",
        "# Add a Dense layer with number of neurons equal to the number of classes, with softmax as activation function\n",
        "model.add(Dense(num_classes, activation='softmax'))\n",
        "\n",
        "\n",
        "# Compile the model you just created using \n",
        "# adam optimizer as optimizer\n",
        "# sparse categorical crossentropy as loss function\n",
        "# accuracy as metric\n",
        "model.compile(optimizer=adam,\n",
        "              loss=loss[0],\n",
        "              metrics=[metrics[0]])\n",
        "\n",
        "# fit your model and save the returned value as \"history\". \n",
        "# Use both the train and validation set \n",
        "# Set both properly the batch size value and the epochs value\n",
        "batch_size = 128\n",
        "epochs = 5\n",
        "history = model.fit(x_train, y_train, batch_size=batch_size, epochs=epochs, validation_data =(x_val, y_val))\n",
        "\n",
        "# Call the plot_history function to plot the obtained results\n",
        "plot_history(history)\n",
        "\n",
        "# Evaluate\n",
        "_, train_acc = model.evaluate(x_train, y_train, verbose=1)\n",
        "_, test_acc = model.evaluate(x_test, y_test, verbose=1)\n",
        "print('Train: %.3f, Test: %.3f' % (train_acc, test_acc))"
      ],
      "execution_count": null,
      "outputs": []
    },
    {
      "cell_type": "markdown",
      "metadata": {
        "id": "m5_Yf-4UaY29"
      },
      "source": [
        "## 1.3.3 Early stopping\n",
        "Validation can be used to detect when overfitting starts during supervised training of a neural network; training is then stopped before convergence to avoid the overfitting.<br>\n",
        "\n",
        "<img src=\"https://drive.google.com/uc?id=1prBt0w2oWIviRDjOSRKP2TglDGUr-EGZ\" width=\"400px\"><br><br>\n",
        "\n"
      ]
    },
    {
      "cell_type": "code",
      "metadata": {
        "id": "vcJ9tjH2aY2-"
      },
      "source": [
        "from tensorflow.keras.callbacks import ModelCheckpoint, EarlyStopping\n",
        "import os\n",
        "\n",
        "os.mkdir('my_checkpoint_dir')\n",
        "\n",
        "# early stopping https://keras.io/callbacks/\n",
        "es_callback = EarlyStopping(monitor='val_loss', mode='min', verbose=1, patience=5)\n",
        "\n",
        "# Create checkpoint callback that will save the best model observed during training for later use\n",
        "checkpoint_path = \"my_checkpoint_dir/cp.ckpt\"\n",
        "checkpoint_dir = os.path.dirname(checkpoint_path)\n",
        "cp_callback = ModelCheckpoint(checkpoint_path,monitor='val_loss',save_weights_only=True,verbose=1)"
      ],
      "execution_count": null,
      "outputs": []
    },
    {
      "cell_type": "code",
      "metadata": {
        "id": "oAaj7qisaY3B",
        "scrolled": false
      },
      "source": [
        "# Build the model\n",
        "model = Sequential()\n",
        "model.add(Flatten())\n",
        "# Add a Dense layer with 512 neurons, with relu as activation function\n",
        "model.add(Dense(512, activation='relu'))\n",
        "# Add a Dense layer with 256 neurons, with relu as activation function\n",
        "model.add(Dense(256, activation='relu'))\n",
        "# Add a Dense layer with 128 neurons, with relu as activation function\n",
        "model.add(Dhttp://localhost:8888/notebooks/DNN_hands-on.ipynb#ense(128, activation='relu'))\n",
        "# Add a Dense layer with 64 neurons, with relu as activation function\n",
        "model.add(Dense(64, activation='relu'))\n",
        "model.add(Dense(num_classes, activation='softmax'))\n",
        "\n",
        "# Compile the model you just created using \n",
        "# adam optimizer as optimizer\n",
        "# sparse categorical crossentropy as loss function\n",
        "# accuracy as metric\n",
        "model.compile(optimizer=adam,\n",
        "              loss=loss[0],\n",
        "              metrics=[metrics[0]])\n",
        "\n",
        "# fit your model and save the returned value as \"history\". \n",
        "# Use both the train and validation set \n",
        "# Set both properly the batch size value and the epochs value\n",
        "# Be careful to also set properly the callbacks parameter list\n",
        "batch_size =128\n",
        "epochs = 10\n",
        "history = model.fit(x_train, y_train, batch_size=batch_size, validation_data=(x_val, y_val), epochs=epochs, verbose=1, callbacks=[es_callback, cp_callback])\n",
        "# This may generate warnings related to saving the state of the optimizer.\n",
        "\n",
        "# Call the plot_history function to plot the obtained results\n",
        "plot_history(history)\n",
        "\n",
        "# Evaluate\n",
        "_, train_acc = model.evaluate(x_train, y_train, verbose=1)\n",
        "_, test_acc = model.evaluate(x_test, y_test, verbose=1)\n",
        "print('Train: %.3f, Test: %.3f' % (train_acc, test_acc))"
      ],
      "execution_count": null,
      "outputs": []
    }
  ]
}